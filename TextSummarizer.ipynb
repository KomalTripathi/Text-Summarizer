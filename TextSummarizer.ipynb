from transformers import pipeline
import ipywidgets as widgets

# Initialize the summarizer with a more advanced model
summarizer = pipeline("summarization", model="facebook/bart-large-cnn")

# Function to clean up and prepare the blog text before summarization
def preprocess_text(text):
    # Removing extra spaces, newlines, etc., for better summarization
    text = " ".join(text.split())
    return text

# Function to summarize the blog
def summarize_blog(blog_text):
    blog_text = preprocess_text(blog_text)

    # Generate summary using the summarization pipeline with better settings
    summary = summarizer(blog_text, max_length=250, min_length=100, do_sample=False)

    # Extract the summary text
    summary_text = summary[0]['summary_text']
    return summary_text

# Function triggered when the button is clicked
def on_button_click(b):
    # Get blog text from the text input
    blog_text = text_input.value

    # Generate the summary
    summary = summarize_blog(blog_text)

    # Create the output content
    output_content = f"<b>Summary:</b><br>{summary}"

    # Display output inside a box
    output_box.value = output_content

# Create text input widget for blog content
text_input = widgets.Textarea(
    placeholder='Enter your blog text here...',
    description='Blog Text:',
    layout=widgets.Layout(width='500px', height='150px')
)

# Create a button widget for triggering summary generation
button = widgets.Button(description="Generate Summary")

# Create an output box widget with a scrollable feature
output_box = widgets.HTML(
    layout=widgets.Layout(
        border='1px solid black',
        padding='10px',
        width='500px',
        height='200px',  # Adjusted height
        overflow_y='scroll'  # Enabling vertical scroll
    )
)

# Attach the function to the button click event
button.on_click(on_button_click)

# Display the text input, button, and output box as a vertical box layout
widgets.VBox([text_input, button, output_box])
