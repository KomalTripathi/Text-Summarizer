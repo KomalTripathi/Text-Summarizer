{
  "nbformat": 4,
  "nbformat_minor": 0,
  "metadata": {
    "colab": {
      "provenance": [],
      "gpuType": "T4"
    },
    "kernelspec": {
      "name": "python3",
      "display_name": "Python 3"
    },
    "language_info": {
      "name": "python"
    },
    "accelerator": "GPU"
  },
  "cells": [
    {
      "cell_type": "code",
      "source": [
        "from transformers import pipeline\n",
        "import ipywidgets as widgets\n",
        "\n",
        "# Initialize the summarizer with a more advanced model\n",
        "summarizer = pipeline(\"summarization\", model=\"facebook/bart-large-cnn\")\n",
        "\n",
        "# Function to clean up and prepare the blog text before summarization\n",
        "def preprocess_text(text):\n",
        "    # Removing extra spaces, newlines, etc., for better summarization\n",
        "    text = \" \".join(text.split())\n",
        "    return text\n",
        "\n",
        "# Function to summarize the blog\n",
        "def summarize_blog(blog_text):\n",
        "    blog_text = preprocess_text(blog_text)\n",
        "\n",
        "    # Generate summary using the summarization pipeline with better settings\n",
        "    summary = summarizer(blog_text, max_length=250, min_length=100, do_sample=False)\n",
        "\n",
        "    # Extract the summary text\n",
        "    summary_text = summary[0]['summary_text']\n",
        "    return summary_text\n",
        "\n",
        "# Function triggered when the button is clicked\n",
        "def on_button_click(b):\n",
        "    # Get blog text from the text input\n",
        "    blog_text = text_input.value\n",
        "\n",
        "    # Generate the summary\n",
        "    summary = summarize_blog(blog_text)\n",
        "\n",
        "    # Create the output content\n",
        "    output_content = f\"<b>Summary:</b><br>{summary}\"\n",
        "\n",
        "    # Display output inside a box\n",
        "    output_box.value = output_content\n",
        "\n",
        "# Create text input widget for blog content\n",
        "text_input = widgets.Textarea(\n",
        "    placeholder='Enter your blog text here...',\n",
        "    description='Blog Text:',\n",
        "    layout=widgets.Layout(width='500px', height='150px')\n",
        ")\n",
        "\n",
        "# Create a button widget for triggering summary generation\n",
        "button = widgets.Button(description=\"Generate Summary\")\n",
        "\n",
        "# Create an output box widget with a scrollable feature\n",
        "output_box = widgets.HTML(\n",
        "    layout=widgets.Layout(\n",
        "        border='1px solid black',\n",
        "        padding='10px',\n",
        "        width='500px',\n",
        "        height='200px',  # Adjusted height\n",
        "        overflow_y='scroll'  # Enabling vertical scroll\n",
        "    )\n",
        ")\n",
        "\n",
        "# Attach the function to the button click event\n",
        "button.on_click(on_button_click)\n",
        "\n",
        "# Display the text input, button, and output box as a vertical box layout\n",
        "widgets.VBox([text_input, button, output_box])\n"
      ],
      "metadata": {
        "id": "ulEr1wqGxBkX"
      },
      "execution_count": null,
      "outputs": []
    }
  ]
}